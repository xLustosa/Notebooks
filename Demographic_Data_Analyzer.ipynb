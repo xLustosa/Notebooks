{
  "nbformat": 4,
  "nbformat_minor": 0,
  "metadata": {
    "colab": {
      "name": "Demographic Data Analyzer.ipynb",
      "provenance": [],
      "collapsed_sections": [],
      "authorship_tag": "ABX9TyM4JdHyGA01mm+fh+UnGf5W",
      "include_colab_link": true
    },
    "kernelspec": {
      "name": "python3",
      "display_name": "Python 3"
    },
    "language_info": {
      "name": "python"
    }
  },
  "cells": [
    {
      "cell_type": "markdown",
      "metadata": {
        "id": "view-in-github",
        "colab_type": "text"
      },
      "source": [
        "<a href=\"https://colab.research.google.com/github/xLustosa/Notebooks/blob/main/Demographic_Data_Analyzer.ipynb\" target=\"_parent\"><img src=\"https://colab.research.google.com/assets/colab-badge.svg\" alt=\"Open In Colab\"/></a>"
      ]
    },
    {
      "cell_type": "markdown",
      "metadata": {
        "id": "I0Pn7tBZVuem"
      },
      "source": [
        "**Dataset Source**\n",
        "Dua, D. and Graff, C. (2019). UCI Machine Learning Repository [http://archive.ics.uci.edu/ml]. Irvine, CA: University of California, School of Information and Computer Science."
      ]
    },
    {
      "cell_type": "code",
      "metadata": {
        "id": "yJerzkTPV9--"
      },
      "source": [
        "import pandas as pd\n",
        "url = 'https://raw.githubusercontent.com/xLustosa/Notebooks/main/adult.data.csv'\n",
        "df = pd.read_csv(url)"
      ],
      "execution_count": 1,
      "outputs": []
    },
    {
      "cell_type": "code",
      "metadata": {
        "colab": {
          "base_uri": "https://localhost:8080/",
          "height": 204
        },
        "id": "vDwV3_bDiH0G",
        "outputId": "604dbd14-2520-4749-d524-89e6c033550b"
      },
      "source": [
        "df.head()"
      ],
      "execution_count": 2,
      "outputs": [
        {
          "output_type": "execute_result",
          "data": {
            "text/html": [
              "<div>\n",
              "<style scoped>\n",
              "    .dataframe tbody tr th:only-of-type {\n",
              "        vertical-align: middle;\n",
              "    }\n",
              "\n",
              "    .dataframe tbody tr th {\n",
              "        vertical-align: top;\n",
              "    }\n",
              "\n",
              "    .dataframe thead th {\n",
              "        text-align: right;\n",
              "    }\n",
              "</style>\n",
              "<table border=\"1\" class=\"dataframe\">\n",
              "  <thead>\n",
              "    <tr style=\"text-align: right;\">\n",
              "      <th></th>\n",
              "      <th>age</th>\n",
              "      <th>workclass</th>\n",
              "      <th>fnlwgt</th>\n",
              "      <th>education</th>\n",
              "      <th>education-num</th>\n",
              "      <th>marital-status</th>\n",
              "      <th>occupation</th>\n",
              "      <th>relationship</th>\n",
              "      <th>race</th>\n",
              "      <th>sex</th>\n",
              "      <th>capital-gain</th>\n",
              "      <th>capital-loss</th>\n",
              "      <th>hours-per-week</th>\n",
              "      <th>native-country</th>\n",
              "      <th>salary</th>\n",
              "    </tr>\n",
              "  </thead>\n",
              "  <tbody>\n",
              "    <tr>\n",
              "      <th>0</th>\n",
              "      <td>39</td>\n",
              "      <td>State-gov</td>\n",
              "      <td>77516</td>\n",
              "      <td>Bachelors</td>\n",
              "      <td>13</td>\n",
              "      <td>Never-married</td>\n",
              "      <td>Adm-clerical</td>\n",
              "      <td>Not-in-family</td>\n",
              "      <td>White</td>\n",
              "      <td>Male</td>\n",
              "      <td>2174</td>\n",
              "      <td>0</td>\n",
              "      <td>40</td>\n",
              "      <td>United-States</td>\n",
              "      <td>&lt;=50K</td>\n",
              "    </tr>\n",
              "    <tr>\n",
              "      <th>1</th>\n",
              "      <td>50</td>\n",
              "      <td>Self-emp-not-inc</td>\n",
              "      <td>83311</td>\n",
              "      <td>Bachelors</td>\n",
              "      <td>13</td>\n",
              "      <td>Married-civ-spouse</td>\n",
              "      <td>Exec-managerial</td>\n",
              "      <td>Husband</td>\n",
              "      <td>White</td>\n",
              "      <td>Male</td>\n",
              "      <td>0</td>\n",
              "      <td>0</td>\n",
              "      <td>13</td>\n",
              "      <td>United-States</td>\n",
              "      <td>&lt;=50K</td>\n",
              "    </tr>\n",
              "    <tr>\n",
              "      <th>2</th>\n",
              "      <td>38</td>\n",
              "      <td>Private</td>\n",
              "      <td>215646</td>\n",
              "      <td>HS-grad</td>\n",
              "      <td>9</td>\n",
              "      <td>Divorced</td>\n",
              "      <td>Handlers-cleaners</td>\n",
              "      <td>Not-in-family</td>\n",
              "      <td>White</td>\n",
              "      <td>Male</td>\n",
              "      <td>0</td>\n",
              "      <td>0</td>\n",
              "      <td>40</td>\n",
              "      <td>United-States</td>\n",
              "      <td>&lt;=50K</td>\n",
              "    </tr>\n",
              "    <tr>\n",
              "      <th>3</th>\n",
              "      <td>53</td>\n",
              "      <td>Private</td>\n",
              "      <td>234721</td>\n",
              "      <td>11th</td>\n",
              "      <td>7</td>\n",
              "      <td>Married-civ-spouse</td>\n",
              "      <td>Handlers-cleaners</td>\n",
              "      <td>Husband</td>\n",
              "      <td>Black</td>\n",
              "      <td>Male</td>\n",
              "      <td>0</td>\n",
              "      <td>0</td>\n",
              "      <td>40</td>\n",
              "      <td>United-States</td>\n",
              "      <td>&lt;=50K</td>\n",
              "    </tr>\n",
              "    <tr>\n",
              "      <th>4</th>\n",
              "      <td>28</td>\n",
              "      <td>Private</td>\n",
              "      <td>338409</td>\n",
              "      <td>Bachelors</td>\n",
              "      <td>13</td>\n",
              "      <td>Married-civ-spouse</td>\n",
              "      <td>Prof-specialty</td>\n",
              "      <td>Wife</td>\n",
              "      <td>Black</td>\n",
              "      <td>Female</td>\n",
              "      <td>0</td>\n",
              "      <td>0</td>\n",
              "      <td>40</td>\n",
              "      <td>Cuba</td>\n",
              "      <td>&lt;=50K</td>\n",
              "    </tr>\n",
              "  </tbody>\n",
              "</table>\n",
              "</div>"
            ],
            "text/plain": [
              "   age         workclass  fnlwgt  ... hours-per-week  native-country salary\n",
              "0   39         State-gov   77516  ...             40   United-States  <=50K\n",
              "1   50  Self-emp-not-inc   83311  ...             13   United-States  <=50K\n",
              "2   38           Private  215646  ...             40   United-States  <=50K\n",
              "3   53           Private  234721  ...             40   United-States  <=50K\n",
              "4   28           Private  338409  ...             40            Cuba  <=50K\n",
              "\n",
              "[5 rows x 15 columns]"
            ]
          },
          "metadata": {},
          "execution_count": 2
        }
      ]
    },
    {
      "cell_type": "markdown",
      "metadata": {
        "id": "nU6CSEuaiwDr"
      },
      "source": [
        "# 1. How many people of each race are represented in this dataset? This should be a Pandas series with race names as the index labels. (race column)"
      ]
    },
    {
      "cell_type": "code",
      "metadata": {
        "colab": {
          "base_uri": "https://localhost:8080/",
          "height": 204
        },
        "id": "ZzEOkueUYEu_",
        "outputId": "898d6dde-3a63-4352-805e-351411a2b160"
      },
      "source": [
        "df_race = pd.DataFrame({'Total':df.race.value_counts()})\n",
        "df_race"
      ],
      "execution_count": 3,
      "outputs": [
        {
          "output_type": "execute_result",
          "data": {
            "text/html": [
              "<div>\n",
              "<style scoped>\n",
              "    .dataframe tbody tr th:only-of-type {\n",
              "        vertical-align: middle;\n",
              "    }\n",
              "\n",
              "    .dataframe tbody tr th {\n",
              "        vertical-align: top;\n",
              "    }\n",
              "\n",
              "    .dataframe thead th {\n",
              "        text-align: right;\n",
              "    }\n",
              "</style>\n",
              "<table border=\"1\" class=\"dataframe\">\n",
              "  <thead>\n",
              "    <tr style=\"text-align: right;\">\n",
              "      <th></th>\n",
              "      <th>Total</th>\n",
              "    </tr>\n",
              "  </thead>\n",
              "  <tbody>\n",
              "    <tr>\n",
              "      <th>White</th>\n",
              "      <td>27816</td>\n",
              "    </tr>\n",
              "    <tr>\n",
              "      <th>Black</th>\n",
              "      <td>3124</td>\n",
              "    </tr>\n",
              "    <tr>\n",
              "      <th>Asian-Pac-Islander</th>\n",
              "      <td>1039</td>\n",
              "    </tr>\n",
              "    <tr>\n",
              "      <th>Amer-Indian-Eskimo</th>\n",
              "      <td>311</td>\n",
              "    </tr>\n",
              "    <tr>\n",
              "      <th>Other</th>\n",
              "      <td>271</td>\n",
              "    </tr>\n",
              "  </tbody>\n",
              "</table>\n",
              "</div>"
            ],
            "text/plain": [
              "                    Total\n",
              "White               27816\n",
              "Black                3124\n",
              "Asian-Pac-Islander   1039\n",
              "Amer-Indian-Eskimo    311\n",
              "Other                 271"
            ]
          },
          "metadata": {},
          "execution_count": 3
        }
      ]
    },
    {
      "cell_type": "markdown",
      "metadata": {
        "id": "HshiS0LdjAwp"
      },
      "source": [
        "# 2. What is the average age of men?"
      ]
    },
    {
      "cell_type": "code",
      "metadata": {
        "colab": {
          "base_uri": "https://localhost:8080/"
        },
        "id": "8M-zlkxljZIU",
        "outputId": "673d4528-4010-478f-d4d5-6539670bc7a7"
      },
      "source": [
        "filter = df['sex'] == \"Male\"\n",
        "df[filter].age.mean()"
      ],
      "execution_count": 4,
      "outputs": [
        {
          "output_type": "execute_result",
          "data": {
            "text/plain": [
              "39.43354749885268"
            ]
          },
          "metadata": {},
          "execution_count": 4
        }
      ]
    },
    {
      "cell_type": "markdown",
      "metadata": {
        "id": "X-nQKuWqrI96"
      },
      "source": [
        "# 3. What is the percentage of people who have a Bachelor's degree?"
      ]
    },
    {
      "cell_type": "code",
      "metadata": {
        "colab": {
          "base_uri": "https://localhost:8080/"
        },
        "id": "ezq6w7BjrStp",
        "outputId": "a038e190-1d9f-4d65-810d-382ad5c512cc"
      },
      "source": [
        "df_edu = pd.DataFrame({'Total':df.education.value_counts()})\n",
        "percent = (df_edu.Total['Bachelors']/df_edu.sum())*100\n",
        "print(percent.Total,'%')\n"
      ],
      "execution_count": 5,
      "outputs": [
        {
          "output_type": "stream",
          "name": "stdout",
          "text": [
            "16.44605509658794 %\n"
          ]
        }
      ]
    },
    {
      "cell_type": "markdown",
      "metadata": {
        "id": "WOMXgwnNzsQd"
      },
      "source": [
        "# 4. What percentage of people with advanced education (Bachelors, Masters, or Doctorate) make more than 50K?"
      ]
    },
    {
      "cell_type": "code",
      "metadata": {
        "colab": {
          "base_uri": "https://localhost:8080/"
        },
        "id": "ki_VyvrezvRO",
        "outputId": "0d59719d-a8fa-4634-c4da-73afb6bbe743"
      },
      "source": [
        "df_sal = pd.DataFrame({'Total':df.groupby('salary').education.value_counts()})\n",
        "x_more = df_sal.Total.loc[(\">50K\", \"Bachelors\")] + df_sal.Total.loc[(\">50K\", \"Masters\")] + df_sal.Total.loc[(\">50K\", \"Doctorate\")]\n",
        "x_less = df_sal.Total.loc[(\"<=50K\", \"Bachelors\")] + df_sal.Total.loc[(\"<=50K\", \"Masters\")] + df_sal.Total.loc[(\"<=50K\", \"Doctorate\")]\n",
        "percent_sal = (x_more/(x_more + x_less))*100\n",
        "percent_sal\n",
        "print(percent_sal,'%')"
      ],
      "execution_count": 6,
      "outputs": [
        {
          "output_type": "stream",
          "name": "stdout",
          "text": [
            "46.535843011613935 %\n"
          ]
        }
      ]
    },
    {
      "cell_type": "markdown",
      "metadata": {
        "id": "wBvVpb7Pf_LY"
      },
      "source": [
        "# 5. What percentage of people without advanced education make more than 50K?"
      ]
    },
    {
      "cell_type": "code",
      "metadata": {
        "colab": {
          "base_uri": "https://localhost:8080/"
        },
        "id": "yCPcZ73tgk18",
        "outputId": "0be0e4b8-f37b-45cc-d4c6-dad388f68f15"
      },
      "source": [
        "df_w = pd.DataFrame({'Total':df.groupby('salary').education.value_counts()})\n",
        "total_more = (df_w.Total.loc[(\">50K\")].sum()) - x_more\n",
        "total_less = (df_w.Total.loc[(\"<=50K\")].sum()) - x_less\n",
        "percent_w = (total_more/(total_more + total_less))*100\n",
        "print(percent_w,'%')\n"
      ],
      "execution_count": 7,
      "outputs": [
        {
          "output_type": "stream",
          "name": "stdout",
          "text": [
            "17.3713601914639 %\n"
          ]
        }
      ]
    },
    {
      "cell_type": "markdown",
      "metadata": {
        "id": "vkxzQE1pp3OG"
      },
      "source": [
        "# 6. What is the minimum number of hours a person works per week?"
      ]
    },
    {
      "cell_type": "code",
      "metadata": {
        "id": "XILEbkR_p_-B",
        "colab": {
          "base_uri": "https://localhost:8080/"
        },
        "outputId": "3603024a-86ad-4c22-f0ce-98b618b19774"
      },
      "source": [
        "df['hours-per-week'].min()"
      ],
      "execution_count": 8,
      "outputs": [
        {
          "output_type": "execute_result",
          "data": {
            "text/plain": [
              "1"
            ]
          },
          "metadata": {},
          "execution_count": 8
        }
      ]
    },
    {
      "cell_type": "markdown",
      "metadata": {
        "id": "4PXH7XluYua3"
      },
      "source": [
        "# 7. What percentage of the people who work the minimum number of hours per week have a salary of more than 50K?"
      ]
    },
    {
      "cell_type": "code",
      "metadata": {
        "colab": {
          "base_uri": "https://localhost:8080/"
        },
        "id": "pC91qYrhYten",
        "outputId": "9bf80ce3-3178-4dfa-a667-daf577d93350"
      },
      "source": [
        "filter2 = df['hours-per-week'] == 1\n",
        "df_hour = df[filter2]\n",
        "x = len(df_hour[(df_hour.salary == '>50K')])\n",
        "y = len(df_hour)\n",
        "percent_min = (x/y)*100\n",
        "print(percent_min,'%')"
      ],
      "execution_count": 9,
      "outputs": [
        {
          "output_type": "stream",
          "name": "stdout",
          "text": [
            "10.0 %\n"
          ]
        }
      ]
    },
    {
      "cell_type": "markdown",
      "metadata": {
        "id": "1xTirrbzY1lC"
      },
      "source": [
        "# 8. What country has the highest percentage of people that earn >50K and what is that percentage?"
      ]
    },
    {
      "cell_type": "code",
      "metadata": {
        "id": "tutRsoxfY17e",
        "colab": {
          "base_uri": "https://localhost:8080/"
        },
        "outputId": "1bf75a46-e630-47d9-bbcc-74bff7fcefd8"
      },
      "source": [
        "df_country = pd.DataFrame({'Total':df.groupby('native-country').salary.value_counts()})\n",
        "#pd.set_option('display.max_rows', None)\n",
        "print(df_country)"
      ],
      "execution_count": 10,
      "outputs": [
        {
          "output_type": "stream",
          "name": "stdout",
          "text": [
            "                       Total\n",
            "native-country salary       \n",
            "?              <=50K     437\n",
            "               >50K      146\n",
            "Cambodia       <=50K      12\n",
            "               >50K        7\n",
            "Canada         <=50K      82\n",
            "...                      ...\n",
            "United-States  >50K     7171\n",
            "Vietnam        <=50K      62\n",
            "               >50K        5\n",
            "Yugoslavia     <=50K      10\n",
            "               >50K        6\n",
            "\n",
            "[82 rows x 1 columns]\n"
          ]
        }
      ]
    },
    {
      "cell_type": "code",
      "metadata": {
        "colab": {
          "base_uri": "https://localhost:8080/",
          "height": 80
        },
        "id": "xDyhRPM15M7J",
        "outputId": "a31ac325-cfe2-47ed-8cdc-4a7c1333f21a"
      },
      "source": [
        "df_percent = pd.DataFrame()\n",
        "for i in range(len(df_country)):\n",
        "    if (i%2==0) or (i==0):\n",
        "      t = df_country.iloc[i] + df_country.iloc[i+1]\n",
        "      x = (df_country.iloc[i+1]/t)*100\n",
        "      country = df_country.index[i]\n",
        "      select = country[0]\n",
        "      new_row =  {'Country': select, 'Total': x.Total}\n",
        "      df_percent = df_percent.append(new_row, ignore_index=True)\n",
        "    else:\n",
        "      continue  \n",
        "    \n",
        "filter4 = df_percent['Total'] == df_percent.Total.max()\n",
        "df_percent[filter4]\n"
      ],
      "execution_count": 21,
      "outputs": [
        {
          "output_type": "execute_result",
          "data": {
            "text/html": [
              "<div>\n",
              "<style scoped>\n",
              "    .dataframe tbody tr th:only-of-type {\n",
              "        vertical-align: middle;\n",
              "    }\n",
              "\n",
              "    .dataframe tbody tr th {\n",
              "        vertical-align: top;\n",
              "    }\n",
              "\n",
              "    .dataframe thead th {\n",
              "        text-align: right;\n",
              "    }\n",
              "</style>\n",
              "<table border=\"1\" class=\"dataframe\">\n",
              "  <thead>\n",
              "    <tr style=\"text-align: right;\">\n",
              "      <th></th>\n",
              "      <th>Country</th>\n",
              "      <th>Total</th>\n",
              "    </tr>\n",
              "  </thead>\n",
              "  <tbody>\n",
              "    <tr>\n",
              "      <th>25</th>\n",
              "      <td>Laos</td>\n",
              "      <td>99.673203</td>\n",
              "    </tr>\n",
              "  </tbody>\n",
              "</table>\n",
              "</div>"
            ],
            "text/plain": [
              "   Country      Total\n",
              "25    Laos  99.673203"
            ]
          },
          "metadata": {},
          "execution_count": 21
        }
      ]
    },
    {
      "cell_type": "markdown",
      "metadata": {
        "id": "JvKk08UyY2U7"
      },
      "source": [
        "# 9. Identify the most popular occupation for those who earn >50K in India."
      ]
    },
    {
      "cell_type": "code",
      "metadata": {
        "id": "2BEo6-9OMZXJ"
      },
      "source": [
        "filter5 = df['native-country'] == 'India' \n",
        "df_india = df[filter5]\n",
        "filter6 = df_india['salary'] == '>50K'\n",
        "df_india = df_india[filter6]"
      ],
      "execution_count": 22,
      "outputs": []
    },
    {
      "cell_type": "code",
      "metadata": {
        "id": "boBjkOlQY29d",
        "colab": {
          "base_uri": "https://localhost:8080/"
        },
        "outputId": "a0cfdb81-e016-42ec-c377-a28c04d5aef7"
      },
      "source": [
        "\n",
        "df_occupation = pd.DataFrame({'Total':df_india.occupation.value_counts()})\n",
        "##pd.set_option('display.max_rows', None)\n",
        "print(df_occupation)"
      ],
      "execution_count": 23,
      "outputs": [
        {
          "output_type": "stream",
          "name": "stdout",
          "text": [
            "                  Total\n",
            "Prof-specialty       25\n",
            "Exec-managerial       8\n",
            "Other-service         2\n",
            "Tech-support          2\n",
            "Sales                 1\n",
            "Transport-moving      1\n",
            "Adm-clerical          1\n"
          ]
        }
      ]
    },
    {
      "cell_type": "code",
      "metadata": {
        "colab": {
          "base_uri": "https://localhost:8080/",
          "height": 80
        },
        "id": "02FjcLHhHl26",
        "outputId": "ceec5e44-f6ba-47e5-c7d8-3aa928a34065"
      },
      "source": [
        "filter7 = df_occupation['Total'] == df_occupation.Total.max()\n",
        "df_occupation[filter7]"
      ],
      "execution_count": 15,
      "outputs": [
        {
          "output_type": "execute_result",
          "data": {
            "text/html": [
              "<div>\n",
              "<style scoped>\n",
              "    .dataframe tbody tr th:only-of-type {\n",
              "        vertical-align: middle;\n",
              "    }\n",
              "\n",
              "    .dataframe tbody tr th {\n",
              "        vertical-align: top;\n",
              "    }\n",
              "\n",
              "    .dataframe thead th {\n",
              "        text-align: right;\n",
              "    }\n",
              "</style>\n",
              "<table border=\"1\" class=\"dataframe\">\n",
              "  <thead>\n",
              "    <tr style=\"text-align: right;\">\n",
              "      <th></th>\n",
              "      <th>Total</th>\n",
              "    </tr>\n",
              "  </thead>\n",
              "  <tbody>\n",
              "    <tr>\n",
              "      <th>Prof-specialty</th>\n",
              "      <td>25</td>\n",
              "    </tr>\n",
              "  </tbody>\n",
              "</table>\n",
              "</div>"
            ],
            "text/plain": [
              "                Total\n",
              "Prof-specialty     25"
            ]
          },
          "metadata": {},
          "execution_count": 15
        }
      ]
    }
  ]
}